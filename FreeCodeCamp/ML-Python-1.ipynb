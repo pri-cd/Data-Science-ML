{
 "cells": [
  {
   "cell_type": "markdown",
   "metadata": {},
   "source": [
    "# **Understanding the Relationship between AI, ML, and DL**\n",
    "\n",
    "1. **Artificial Intelligence (AI)**: \n",
    "   - AI is the broadest concept, encompassing all technologies that enable machines to mimic human intelligence.\n",
    "\n",
    "2. **Machine Learning (ML)**: \n",
    "   - ML is a subset of AI.\n",
    "   - It focuses on algorithms and statistical models that enable computers to learn from and make predictions based on data.\n",
    "\n",
    "3. **Deep Learning (DL)**: \n",
    "   - DL is a subset of ML.\n",
    "   - It involves neural networks with many layers (hence \"deep\") that are designed to learn from large amounts of data.\n",
    "\n",
    "## **Summary**:\n",
    "\n",
    "- **AI** is the umbrella term that includes all intelligent machine technologies.\n",
    "- **ML** is a specific area within AI that uses data-driven techniques to improve performance.\n",
    "- **DL** is a specialized branch within ML that uses complex neural networks to achieve high levels of learning and accuracy.\n"
   ]
  },
  {
   "cell_type": "code",
   "execution_count": 31,
   "metadata": {},
   "outputs": [],
   "source": [
    "# Import Tensorflow\n",
    "import tensorflow as tf\n",
    "# Supressing Warnings Because, Don't have- CUDA NVIDIA!.\n",
    "tf.get_logger().setLevel('ERROR')  "
   ]
  },
  {
   "cell_type": "markdown",
   "metadata": {},
   "source": [
    "* What we've created below are called **Tensors**\n",
    "* They're **Scalar**.\n",
    "* Scalar means **Ranks of These are 0** (Zero)"
   ]
  },
  {
   "cell_type": "code",
   "execution_count": 32,
   "metadata": {},
   "outputs": [],
   "source": [
    "# Creation of A Tensor!\n",
    "string = tf.Variable(\"This is a Simple String!\", tf.string)\n",
    "number = tf.Variable(121, tf.int32)\n",
    "floatn = tf.Variable(12.1234, tf.float32)"
   ]
  },
  {
   "cell_type": "markdown",
   "metadata": {},
   "source": [
    "* Another word for **Ranks** is **Degree** \n",
    "* These Terms simply means **The number of Dimensions**"
   ]
  },
  {
   "cell_type": "code",
   "execution_count": 33,
   "metadata": {},
   "outputs": [],
   "source": [
    "rank1Tensor = tf.Variable(['Is', 'This', 'Good'], tf.string)\n",
    "rank2Tensor = tf.Variable([['Hello', 'One'], ['Oh', 'Boy']], tf.string)"
   ]
  },
  {
   "cell_type": "markdown",
   "metadata": {},
   "source": [
    "* We'll now check **Ranks** of the tensors!\n",
    "* We Can Also Check **Shape** of the tensors!"
   ]
  },
  {
   "cell_type": "code",
   "execution_count": 34,
   "metadata": {},
   "outputs": [
    {
     "name": "stdout",
     "output_type": "stream",
     "text": [
      "The Rank of \"rank1Tensor\": 1\n",
      "The Rank of \"rank2Tensor\": 2\n"
     ]
    }
   ],
   "source": [
    "print(\"The Rank of \\\"rank1Tensor\\\":\", tf.rank(rank1Tensor).numpy())\n",
    "print(\"The Rank of \\\"rank2Tensor\\\":\", tf.rank(rank2Tensor).numpy())"
   ]
  },
  {
   "cell_type": "markdown",
   "metadata": {},
   "source": [
    "* Now, There's also the shape of the tensor!"
   ]
  }
 ],
 "metadata": {
  "kernelspec": {
   "display_name": "Python 3",
   "language": "python",
   "name": "python3"
  },
  "language_info": {
   "codemirror_mode": {
    "name": "ipython",
    "version": 3
   },
   "file_extension": ".py",
   "mimetype": "text/x-python",
   "name": "python",
   "nbconvert_exporter": "python",
   "pygments_lexer": "ipython3",
   "version": "3.10.13"
  }
 },
 "nbformat": 4,
 "nbformat_minor": 2
}
