{
  "metadata": {
    "kernelspec": {
      "language": "python",
      "display_name": "Python 3",
      "name": "python3"
    },
    "language_info": {
      "name": "python",
      "version": "3.10.12",
      "mimetype": "text/x-python",
      "codemirror_mode": {
        "name": "ipython",
        "version": 3
      },
      "pygments_lexer": "ipython3",
      "nbconvert_exporter": "python",
      "file_extension": ".py"
    },
    "kaggle": {
      "accelerator": "none",
      "dataSources": [
        {
          "sourceId": 4807272,
          "sourceType": "datasetVersion",
          "datasetId": 2783627
        }
      ],
      "dockerImageVersionId": 30626,
      "isInternetEnabled": false,
      "language": "python",
      "sourceType": "notebook",
      "isGpuEnabled": false
    },
    "colab": {
      "provenance": []
    }
  },
  "nbformat_minor": 0,
  "nbformat": 4,
  "cells": [
    {
      "cell_type": "markdown",
      "source": [
        "# **Generating Anime Characters with Deep Convolutional GANs (DCGANs) and Keras**\n",
        "---"
      ],
      "metadata": {
        "id": "EVPwzTCqby_Z"
      }
    },
    {
      "cell_type": "markdown",
      "source": [
        "## **Usage**:\n",
        "\n",
        "### **Character Generation**:\n",
        "1. **Personalized Avatars**: Generate unique anime avatars reflecting player preferences.\n",
        "2. **NPC Generation**: Create diverse NPCs for richer anime game worlds.\n",
        "3. **Concept Character Creation**: Rapidly generate character designs for anime inspiration.\n",
        "\n",
        "### **Anime Generation**\n",
        "1. **Crowds and Background Characters**: Fill scenes with unique background characters to enhance immersion.\n",
        "2. **Character Creation Tools**: Suggest unique anime characters based on specified traits.\n",
        "3. **Dynamic Character Prototypes**: Allow artists to tweak and adjust generated characters.\n",
        "\n",
        "### **Social Platforms**:\n",
        "1. **Virtual Avatars for Social Platforms**: Personalize avatars in anime-themed social networks and platforms.\n",
        "2. **AI-Generated Virtual Influencers**: Create distinct anime influencers for social media engagement.\n",
        "\n",
        "### **Art Generation**\n",
        "1. **Fan Art Generation**: Generate new characters based on favorite anime series.\n",
        "2. **Interactive Visual Novel Characters**: Create dynamic characters responding to player decisions.\n",
        "---"
      ],
      "metadata": {
        "id": "J2cFo4j-b3D5"
      }
    },
    {
      "cell_type": "markdown",
      "source": [
        "# **GANs are the Solution**\n",
        "\n",
        "### **Generative Adversarial Networks (GANs)**\n",
        "- Generative Adversarial Networks (GANs) are a type of machine learning framework introduced in June 2014 <a href=https://cf-courses-data.s3.us.cloud-object-storage.appdomain.cloud/IBM-GPXX0XCEEN/papers/1406.2661.pdf >[1]</a>.\n",
        "\n",
        "- These networks are capable of generating **new data that mimics the statistical features of the training dataset**. GANs have gained popularity for creating new, realistic photographs that appear authentic to human observers.\n",
        "\n",
        "### **Convolutional Neural Networks (CNNs)**\n",
        "- Convolutional Neural Networks (CNNs) have become widely used in computer vision applications. By **integrating CNNs with GANs**, we can develop models that generate high-quality images.\n",
        "- This combined approach is known as Deep Convolutional Generative Adversarial Networks **(DCGANs)**.\n",
        "---\n"
      ],
      "metadata": {
        "id": "KHjbOblCdawt"
      }
    },
    {
      "cell_type": "markdown",
      "source": [
        "# **Installing  Necessary Libraries**\n",
        "- Quietly Installing Packages- (Remove `> /dev/null 2>&1` For Debugging)"
      ],
      "metadata": {
        "id": "ifKE8F1IfUqK"
      }
    },
    {
      "cell_type": "code",
      "source": [
        "!pip install pandas==2.2.2 numpy==1.26.4 seaborn==0.13.1 matplotlib==3.7.1 scikit-learn==1.5.2 > /dev/null 2>&1\n",
        "!pip install tqdm > /dev/null 2>&1\n",
        "!pip3 install --upgrade tensorflow > /dev/null 2>&1"
      ],
      "metadata": {
        "id": "GhtvpPEifOPE"
      },
      "execution_count": 1,
      "outputs": []
    },
    {
      "cell_type": "code",
      "source": [
        "import os\n",
        "from os import listdir\n",
        "import warnings\n",
        "import numpy as np\n",
        "\n",
        "import matplotlib.pyplot as plt\n",
        "import tensorflow as tf\n",
        "from tensorflow.keras import layers\n",
        "from tensorflow.keras import models\n",
        "from tensorflow.keras.models import Sequential\n",
        "from tensorflow.keras.models import Sequential\n",
        "from tensorflow.keras.layers import Input,Conv2DTranspose,BatchNormalization,ReLU,Conv2D,LeakyReLU\n",
        "import time\n",
        "\n",
        "import keras\n",
        "\n",
        "from IPython import display\n",
        "from pathlib import Path\n",
        "import imghdr\n",
        "from tqdm import tqdm\n",
        "\n",
        "\n"
      ],
      "metadata": {
        "id": "q1rYExQmioBY",
        "outputId": "621490f4-eca5-4f9d-c52f-c4975e60fdb2",
        "colab": {
          "base_uri": "https://localhost:8080/"
        }
      },
      "execution_count": 2,
      "outputs": [
        {
          "output_type": "stream",
          "name": "stdout",
          "text": [
            "tensorflow version: 2.17.0\n"
          ]
        }
      ]
    },
    {
      "cell_type": "code",
      "source": [
        "warnings.simplefilter('ignore')\n",
        "print(f\"tensorflow version: {tf.__version__}\")\n",
        "%matplotlib inline"
      ],
      "metadata": {
        "id": "RObOAmZEkR3t"
      },
      "execution_count": 3,
      "outputs": []
    }
  ]
}