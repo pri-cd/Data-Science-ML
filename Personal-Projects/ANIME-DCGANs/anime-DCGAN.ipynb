{
  "metadata": {
    "kernelspec": {
      "language": "python",
      "display_name": "Python 3",
      "name": "python3"
    },
    "language_info": {
      "name": "python",
      "version": "3.10.12",
      "mimetype": "text/x-python",
      "codemirror_mode": {
        "name": "ipython",
        "version": 3
      },
      "pygments_lexer": "ipython3",
      "nbconvert_exporter": "python",
      "file_extension": ".py"
    },
    "kaggle": {
      "accelerator": "none",
      "dataSources": [
        {
          "sourceId": 4807272,
          "sourceType": "datasetVersion",
          "datasetId": 2783627
        }
      ],
      "dockerImageVersionId": 30626,
      "isInternetEnabled": false,
      "language": "python",
      "sourceType": "notebook",
      "isGpuEnabled": false
    },
    "colab": {
      "provenance": []
    }
  },
  "nbformat_minor": 0,
  "nbformat": 4,
  "cells": [
    {
      "cell_type": "markdown",
      "source": [
        "# **Generating Anime Characters with Deep Convolutional GANs (DCGANs) and Keras**\n",
        "---"
      ],
      "metadata": {
        "id": "EVPwzTCqby_Z"
      }
    },
    {
      "cell_type": "markdown",
      "source": [
        "## **Usage**:\n",
        "\n",
        "### **Character Generation**:\n",
        "1. **Personalized Avatars**: Generate unique anime avatars reflecting player preferences.\n",
        "2. **NPC Generation**: Create diverse NPCs for richer anime game worlds.\n",
        "3. **Concept Character Creation**: Rapidly generate character designs for anime inspiration.\n",
        "\n",
        "### **Anime Generation**\n",
        "1. **Crowds and Background Characters**: Fill scenes with unique background characters to enhance immersion.\n",
        "2. **Character Creation Tools**: Suggest unique anime characters based on specified traits.\n",
        "3. **Dynamic Character Prototypes**: Allow artists to tweak and adjust generated characters.\n",
        "\n",
        "### **Social Platforms**:\n",
        "1. **Virtual Avatars for Social Platforms**: Personalize avatars in anime-themed social networks and platforms.\n",
        "2. **AI-Generated Virtual Influencers**: Create distinct anime influencers for social media engagement.\n",
        "\n",
        "### **Art Generation**\n",
        "1. **Fan Art Generation**: Generate new characters based on favorite anime series.\n",
        "2. **Interactive Visual Novel Characters**: Create dynamic characters responding to player decisions.\n",
        "---"
      ],
      "metadata": {
        "id": "J2cFo4j-b3D5"
      }
    },
    {
      "cell_type": "markdown",
      "source": [
        "## **GANs are the Solution**\n",
        "\n",
        "### **Generative Adversarial Networks (GANs)**\n",
        "- Generative Adversarial Networks (GANs) are a type of machine learning framework introduced in June 2014 <a href=https://cf-courses-data.s3.us.cloud-object-storage.appdomain.cloud/IBM-GPXX0XCEEN/papers/1406.2661.pdf >[1]</a>.\n",
        "\n",
        "- These networks are capable of generating **new data that mimics the statistical features of the training dataset**. GANs have gained popularity for creating new, realistic photographs that appear authentic to human observers.\n",
        "\n",
        "### **Convolutional Neural Networks (CNNs)**\n",
        "- Convolutional Neural Networks (CNNs) have become widely used in computer vision applications. By **integrating CNNs with GANs**, we can develop models that generate high-quality images.\n",
        "- This combined approach is known as Deep Convolutional Generative Adversarial Networks **(DCGANs)**.\n",
        "---\n"
      ],
      "metadata": {
        "id": "KHjbOblCdawt"
      }
    },
    {
      "cell_type": "markdown",
      "source": [
        "# **Installing  Necessary Libraries**\n",
        "- Quietly Installing Packages- (Remove `> /dev/null 2>&1` For Debugging)"
      ],
      "metadata": {
        "id": "ifKE8F1IfUqK"
      }
    },
    {
      "cell_type": "code",
      "source": [
        "!pip install pandas==2.2.2 numpy==1.26.4 seaborn==0.13.1 matplotlib==3.7.1 scikit-learn==1.5.2 > /dev/null 2>&1\n",
        "!pip install tqdm > /dev/null 2>&1\n",
        "!pip3 install --upgrade tensorflow > /dev/null 2>&1"
      ],
      "metadata": {
        "id": "GhtvpPEifOPE"
      },
      "execution_count": 53,
      "outputs": []
    },
    {
      "cell_type": "code",
      "source": [
        "import os\n",
        "import time\n",
        "import warnings\n",
        "import numpy as np\n",
        "import imghdr\n",
        "\n",
        "import keras\n",
        "import tensorflow as tf\n",
        "import matplotlib.pyplot as plt\n",
        "from os import listdir\n",
        "from tensorflow.keras import layers\n",
        "from tensorflow.keras import models\n",
        "from tensorflow.keras.models import Sequential\n",
        "from tensorflow.keras.models import Sequential\n",
        "from tensorflow.keras.layers import Input,Conv2DTranspose,BatchNormalization,ReLU,Conv2D,LeakyReLU\n",
        "\n",
        "from IPython import display\n",
        "from pathlib import Path\n",
        "from tqdm import tqdm\n",
        "\n",
        "\n"
      ],
      "metadata": {
        "id": "q1rYExQmioBY"
      },
      "execution_count": 54,
      "outputs": []
    },
    {
      "cell_type": "code",
      "source": [
        "warnings.simplefilter('ignore')\n",
        "print(f\"tensorflow version: {tf.__version__}\")\n",
        "%matplotlib inline"
      ],
      "metadata": {
        "colab": {
          "base_uri": "https://localhost:8080/"
        },
        "id": "RObOAmZEkR3t",
        "outputId": "28f1d1f0-d6c2-4c2c-84c0-0c205f70f8f6"
      },
      "execution_count": 55,
      "outputs": [
        {
          "output_type": "stream",
          "name": "stdout",
          "text": [
            "tensorflow version: 2.17.0\n"
          ]
        }
      ]
    },
    {
      "cell_type": "code",
      "source": [
        "def plot_dist(real_data, generated_data, discriminator=None, density=True, RealDataName=\"Real Data\", GenerateDataName=\"generated data q(z)\"):\n",
        "\n",
        "    plt.hist(real_data.numpy(), 100, density=density, facecolor='green', alpha=0.75, label=RealDataName)\n",
        "    plt.hist(generated_data.numpy(), 100, density=density, facecolor='red', alpha=0.75,label=GenerateDataName)\n",
        "\n",
        "    if discriminator:\n",
        "        max_=np.max([int(real_data.numpy().max()),int(generated_data.numpy().max())])\n",
        "        min_=np.min([int(real_data.numpy().min()),int(generated_data.numpy().min())])\n",
        "        x=np.linspace(min_, max_, 1000).reshape(-1,1)\n",
        "        plt.plot(x,tf.math.sigmoid(discriminator(x,training=False).numpy()),label='discriminator',color='k')\n",
        "        plt.plot(x,0.5*np.ones(x.shape),label='0.5',color='b')\n",
        "        plt.xlabel('x')\n",
        "\n",
        "    plt.legend()\n",
        "    plt.show()\n",
        "\n",
        "\n",
        "\n",
        "def plot_arr(X,title=\"\"):\n",
        "\n",
        "    plt.rcParams['figure.figsize'] = (20,20)\n",
        "\n",
        "    for i,x in enumerate(X[0:5]):\n",
        "        x=x.numpy()\n",
        "        max_=x.max()\n",
        "        min_=x.min()\n",
        "        xnew=np.uint(255*(x-min_)/(max_-min_))\n",
        "        plt.subplot(1,5,i+1)\n",
        "        plt.imshow(xnew)\n",
        "        plt.axis(\"off\")\n",
        "\n",
        "    plt.show()"
      ],
      "metadata": {
        "id": "nVX62pjzlaOZ"
      },
      "execution_count": 56,
      "outputs": []
    },
    {
      "cell_type": "markdown",
      "source": [
        "---\n",
        "## **Applications**\n",
        "* Generate Photographs of Human Faces\n",
        "* Generate Realistic Photographs\n",
        "* Generate Cartoon Characters\n",
        "* Image-to-Image Translation\n",
        "* Text-to-Image Translation\n",
        "* Face Frontal View Generation\n",
        "* Generate New Human Poses\n",
        "* Face Aging\n",
        "* Photo Blending\n",
        "* Super Resolution\n",
        "* Photo Inpainting\n",
        "* Clothing Translation\n",
        "* Video Prediction"
      ],
      "metadata": {
        "id": "gwvtAwl4qzyi"
      }
    },
    {
      "cell_type": "markdown",
      "source": [
        "# Imagine a Game of **Cakes** Between a Baker and a Food Critic\n",
        "\n",
        "Let’s use the idea of making **cakes**! In our world, we have two characters:\n",
        "\n",
        "- **The Baker (Generator – G):** The one who makes cakes but starts off without knowing much about baking.\n",
        "- **The Food Critic (Discriminator – D):** The expert who has tasted lots of real cakes and can judge if a cake is delicious and real or just a fake, bad cake.\n",
        "\n",
        "## **The Goal**\n",
        "The goal is for the **Baker (G)** to make a cake that is **so good** that the **Food Critic (D)** can’t tell whether it was made by a beginner or a master baker!\n",
        "\n",
        "---\n",
        "\n",
        "## **How the Game Works**\n",
        "\n",
        "### Step 1: The Baker Makes the First Cake\n",
        "At the beginning of the game, the **Baker** doesn't know how to bake a good cake at all. They take a bunch of random ingredients and throw them together into a messy, weird-looking cake.\n",
        "\n",
        "- **Baker’s cake = Fake cake** (It looks bad and probably tastes bad).\n",
        "- **Food Critic** looks at the cake, takes one bite, and says, \"This is a terrible cake! Definitely fake!\" and easily recognizes it as not a real, delicious cake.\n",
        "\n",
        "---\n",
        "\n",
        "### Step 2: The Food Critic Helps the Baker Improve\n",
        "The **Food Critic (D)** is like a teacher in a way. When they say the cake is bad, the **Baker (G)** gets feedback and learns from it. The **Baker** now knows what was wrong with the cake (too salty, too weird-looking) and tries to make a better one next time.\n",
        "\n",
        "- The **Baker** mixes the ingredients differently and bakes another cake.\n",
        "- The **Food Critic** checks again. The new cake might still be bad, but maybe it's **slightly better** than the first one. The **Food Critic** still says, \"Nope, this is not a real cake!\"\n",
        "\n",
        "---\n",
        "\n",
        "### Step 3: The Game Repeats, Over and Over\n",
        "Each time the **Baker (G)** makes a cake, they try to make it **look and taste more like a real, yummy cake**. They want to trick the **Food Critic** into thinking it's a good cake.\n",
        "\n",
        "But the **Food Critic (D)** is also **getting better** at their job! They have eaten hundreds of cakes before, so they learn how to **spot even small mistakes** and tell which cakes are real and which are fake.\n",
        "\n",
        "---\n",
        "\n",
        "### Step 4: Baker Starts to Get Really Good\n",
        "After many rounds of trying and learning from the **Food Critic’s** feedback, the **Baker** starts to get the hang of it. Maybe now the cake looks fluffy, has the right colors, and smells delicious! The **Food Critic** starts getting confused.\n",
        "\n",
        "- Sometimes, the **Food Critic** might look at a cake and **almost** think it’s real but still finds a tiny problem and says, \"Wait, this frosting doesn't look perfect. Fake!\"\n",
        "\n",
        "---\n",
        "\n",
        "### Step 5: Finally, the Baker Wins!\n",
        "After many attempts, the **Baker** finally makes a cake that is so good, the **Food Critic** can’t tell if it’s fake anymore! The cake **looks, smells, and tastes just like a real cake**.\n",
        "\n",
        "- The **Food Critic** is **fooled**!\n",
        "- The **Baker** wins because they have learned to make a cake that looks just as real as a cake from a professional bakery!\n",
        "\n",
        "---\n",
        "\n",
        "## **How This Relates to a GAN**:\n",
        "In a **GAN (Generative Adversarial Network)**, the two parts are always **competing** with each other and learning at the same time:\n",
        "\n",
        "1. **Baker = Generator (G):** The generator starts with random noise (like a bunch of random ingredients) and learns how to create something that looks like the real data (real cakes).\n",
        "   \n",
        "2. **Food Critic = Discriminator (D):** The discriminator tries to tell if what it’s looking at is real or fake (real cakes vs. fake cakes). At first, it can easily spot fake ones, but as the **Generator** gets better, it becomes harder for the **Discriminator** to tell.\n",
        "\n",
        "- The **Baker (Generator)** gets better at making realistic things.\n",
        "- The **Food Critic (Discriminator)** gets better at spotting fakes.\n",
        "  \n",
        "They both improve by **competing** with each other, and in the end, the **Generator** becomes so good at creating realistic-looking cakes (or images, in the case of a GAN), that even an expert can’t tell they’re fake.\n",
        "\n",
        "---\n",
        "\n",
        "## **Let’s Go Deeper into the GAN Process**\n",
        "\n",
        "Now that you understand the basic idea of the game, let’s break down how a GAN works step by step:\n",
        "\n",
        "1. **The Generator (G):**\n",
        "   - Think of this as the **Baker** who starts with random noise (like a bunch of random ingredients) and tries to create something meaningful, like an image or a cake. The Generator creates **fake examples**.\n",
        "   \n",
        "2. **The Discriminator (D):**\n",
        "   - This is like the **Food Critic** who looks at two things:\n",
        "     - **Real Data** (real cakes or real images)\n",
        "     - **Fake Data** created by the **Generator**.\n",
        "   - The **Discriminator** tries to tell which one is real and which one is fake. The better it gets, the harder it becomes for the Generator to fool it.\n",
        "\n",
        "3. **The Feedback Loop:**\n",
        "   - Every time the **Discriminator** spots a fake, the **Generator** learns from it and tries again.\n",
        "   - The **Generator** improves bit by bit, making its creations more realistic.\n",
        "   - The **Discriminator** also improves and gets better at identifying the fakes.\n",
        "\n",
        "4. **Training Process:**\n",
        "   - This process of the **Generator** creating fake data and the **Discriminator** judging it happens **thousands** of times.\n",
        "   - Over time, the **Generator** creates fake images or data that are so convincing, they **look just like the real thing**.\n",
        "\n",
        "---\n",
        "\n",
        "## **Summary in Fun Terms**:\n",
        "- **Baker (Generator):** Learns to make realistic cakes (images).\n",
        "- **Food Critic (Discriminator):** Tries to tell if the cakes are real or fake.\n",
        "- **Feedback Loop:** Each time the Baker makes a better cake, and the Critic gets better at judging it.\n",
        "- **End Result:** The Baker becomes so good that even the Food Critic is fooled into thinking the fake cakes are real!\n",
        "\n",
        "---\n",
        "\n",
        "GANs are like a **friendly competition** between two players who keep learning from each other until one of them (the Generator) becomes **amazingly skilled** at creating things that look like real-world objects!\n",
        "\n",
        "---"
      ],
      "metadata": {
        "id": "W3wlvOwRxPHz"
      }
    },
    {
      "cell_type": "markdown",
      "source": [
        "## **Toy Data**\n",
        "\n",
        "#### **Sampling Data from a Normal Distribution**\n",
        "\n",
        "- We have some data, which we'll call **x**, and we know that it follows a normal distribution. This distribution is described by two important properties:\n",
        "\n",
        "- **Mean**: The center of the distribution, which is 10.\n",
        "Standard Deviation: The spread of the data around the mean, which is 1.\n",
        "\n",
        "- So, the data x is normally distributed with:\n",
        "- **Mean** = 10\n",
        "- **Standard deviation** = 1\n",
        "- `x ~ N(10, 1)`"
      ],
      "metadata": {
        "id": "_UqSmpxjxxHi"
      }
    },
    {
      "cell_type": "code",
      "source": [
        "mean = [10]\n",
        "cov = [[1]]\n",
        "\n",
        "Z = tf.random.normal((5000,1), mean=0, stddev=2)\n",
        "X = tf.random.normal((5000,1), mean=10, stddev=1)\n",
        "\n",
        "'''\n",
        "  1. mean = [10]\n",
        "  - This defines the mean of the data distribution.\n",
        "  - It's set to 10, meaning the center of our data will be around 10.\n",
        "\n",
        "  2. cov = [[1]]\n",
        "  - This is meant to define the covariance or variance of the data, but in this case,\n",
        "  - it's not used because you're generating data directly using TensorFlow's tf.random.normal function.\n",
        "  - Covariance indicates how much variables change together, and since we only have one variable here (1-dimensional data),\n",
        "  - it's just a single value (1), which is the variance.\n",
        "\n",
        "  3. X = tf.random.normal((5000,1), mean=10, stddev=1.0)\n",
        "  - This function from TensorFlow generates 5000 random samples from a normal distribution.\n",
        "  - Each sample is one-dimensional (shape: 5000x1).\n",
        "  - So, this line creates a sample of 5000 points drawn from a normal distribution with a mean of 10 and a standard deviation of 1.\n",
        "\n",
        "  4. print(\"mean:\", np.mean(X))\n",
        "  - This prints the mean of the generated data X.\n",
        "  - Since we drew samples from a distribution with a mean of 10,\n",
        "  - We expect the printed value to be very close to 10 (it might not be exactly 10 due to random sampling).\n",
        "\n",
        "  5. print(\"standard deviation:\", np.std(X))\n",
        "  - This prints the standard deviation of the generated data X.\n",
        "  - Since the data was generated with a standard deviation of 1,\n",
        "  - we expect the printed value to be close to 1.\n",
        "'''\n",
        "\n",
        "\n",
        "print(\"Mean:\", np.mean(X))\n",
        "print(\"Mean:\", np.mean(Z))\n",
        "print(\"Standard Deviation:\", np.std(X))\n",
        "print(\"Standard Deviation:\", np.std(Z))"
      ],
      "metadata": {
        "colab": {
          "base_uri": "https://localhost:8080/"
        },
        "id": "f5Cilm36xrPP",
        "outputId": "0af16e1b-bdb0-45b7-b990-e853bc99b607"
      },
      "execution_count": 57,
      "outputs": [
        {
          "output_type": "stream",
          "name": "stdout",
          "text": [
            "Mean: 10.006339\n",
            "Mean: -0.011753998\n",
            "Standard Deviation: 0.9999882\n",
            "Standard Deviation: 1.9620637\n"
          ]
        }
      ]
    },
    {
      "cell_type": "code",
      "source": [
        "plot_dist(X,Z,discriminator=None,density=True, RealDataName='X Dataset', GenerateDataName='Z Dataset')"
      ],
      "metadata": {
        "colab": {
          "base_uri": "https://localhost:8080/",
          "height": 430
        },
        "id": "hgU8Onkq1qgs",
        "outputId": "9e01bf76-f909-4bba-ef83-78beb35ed2e1"
      },
      "execution_count": 58,
      "outputs": [
        {
          "output_type": "display_data",
          "data": {
            "text/plain": [
              "<Figure size 640x480 with 1 Axes>"
            ],
            "image/png": "[encoded data removed]"
          },
          "metadata": {}
        }
      ]
    },
    {
      "cell_type": "code",
      "source": [
        "Xhat= (Z + 10)"
      ],
      "metadata": {
        "id": "RkbRkGCM21b-"
      },
      "execution_count": 59,
      "outputs": []
    },
    {
      "cell_type": "markdown",
      "source": [
        "- We made a new set of data by adding 10 to each value in the original data.\n",
        "- This new data is similar to the original and is spread out in a way that can be described as a **bell-shaped curve**,\n",
        "- with an average value of 10 and a certain amount of variation."
      ],
      "metadata": {
        "id": "WPllABvW3EMX"
      }
    },
    {
      "cell_type": "code",
      "source": [
        "print(\"Mean:\", np.mean(Xhat))\n",
        "print(\"Standard Deviation:\", np.std(Xhat))\n",
        "\n",
        "plot_dist(X, Xhat, discriminator=None, density=True, RealDataName='X Dataset', GenerateDataName='Xhat Dataset')"
      ],
      "metadata": {
        "colab": {
          "base_uri": "https://localhost:8080/",
          "height": 466
        },
        "id": "EZzOyevK3PpL",
        "outputId": "09d90dfe-59da-4383-d0ec-59b0dee35611"
      },
      "execution_count": 60,
      "outputs": [
        {
          "output_type": "stream",
          "name": "stdout",
          "text": [
            "Mean: 9.988246\n",
            "Standard Deviation: 1.9620638\n"
          ]
        },
        {
          "output_type": "display_data",
          "data": {
            "text/plain": [
              "<Figure size 640x480 with 1 Axes>"
            ],
            "image/png": "[encoded data removed]"
          },
          "metadata": {}
        }
      ]
    },
    {
      "cell_type": "markdown",
      "source": [
        "## **The Generator**:\n",
        "\n",
        "- In a **Generative Adversarial Network (GAN)****, there are two main components: the Generator and the Discriminator.\n",
        "\n",
        "- The **Generator** is a type of neural network (**NNs**), and it is designed to learn and mimic any kind of data distribution. This capability is based on a principle that suggests neural networks can approximate any function.\n",
        "\n",
        "- Our main objective for the Generator is to **take random input samples and transform them into data that resembles real samples**. In this case, we want the output to be similar to the data we want to generate.\n",
        "\n",
        "- To create a simple Generator, we can use a structure where the output is based on the input samples, combined with **some learned weights and biases**. We will use Keras, a popular machine learning library, to build this Generator model.\n",
        "\n",
        "- The following function will create a **Generator using Keras's Sequential model**, which allows us to stack layers to build our neural network.\n"
      ],
      "metadata": {
        "id": "hCKuSHx358T4"
      }
    },
    {
      "cell_type": "code",
      "source": [
        "def MakeGeneratorModel():\n",
        "    generator = tf.keras.Sequential()\n",
        "    generator.add(layers.Dense(1))\n",
        "    return generator"
      ],
      "metadata": {
        "id": "WDPuIzss58HB"
      },
      "execution_count": 61,
      "outputs": []
    },
    {
      "cell_type": "code",
      "source": [
        "generator = MakeGeneratorModel()\n",
        "\n",
        "Xhat = generator(Z, training=False)\n",
        "plot_dist(real_data=X, generated_data=Xhat, RealDataName='X Dataset', GenerateDataName='XHat Dataset (Z Generator)')"
      ],
      "metadata": {
        "colab": {
          "base_uri": "https://localhost:8080/",
          "height": 430
        },
        "id": "i7zqMVLd6m8K",
        "outputId": "2f136b59-4839-4f5f-81c8-32ea57fb245f"
      },
      "execution_count": 62,
      "outputs": [
        {
          "output_type": "display_data",
          "data": {
            "text/plain": [
              "<Figure size 640x480 with 1 Axes>"
            ],
            "image/png": "[encoded data removed]"
          },
          "metadata": {}
        }
      ]
    },
    {
      "cell_type": "markdown",
      "source": [
        "## **The Discriminator**\n",
        "\n",
        "- The discriminator D(x) is a neural network that learns to distinguish between actual and generated samples.\n",
        "\n",
        "- The simplest Discriminator is a simple logistic regression function.\n",
        "\n",
        "- Let's create a discriminator in Keras with one Dense layer; we leave the logistic function out as it will be incorporated in the cost function,\n",
        "\n",
        "- which is the convention in Keras."
      ],
      "metadata": {
        "id": "lUYzYhvuF5CX"
      }
    },
    {
      "cell_type": "code",
      "source": [
        "def MakeDiscriminatorModel():\n",
        "    discriminator=tf.keras.Sequential()\n",
        "    discriminator.add(layers.Dense(1))\n",
        "    return discriminator\n",
        "\n",
        "discriminator=MakeDiscriminatorModel()"
      ],
      "metadata": {
        "id": "d_7rXXMZF4dS"
      },
      "execution_count": 63,
      "outputs": []
    },
    {
      "cell_type": "code",
      "source": [
        "plot_dist(real_data = X, generated_data = Xhat, discriminator=discriminator)"
      ],
      "metadata": {
        "id": "9zpzWH0jGLbz",
        "outputId": "597baefa-f259-48bf-b5c1-3dc6a8a65610",
        "colab": {
          "base_uri": "https://localhost:8080/",
          "height": 449
        }
      },
      "execution_count": 64,
      "outputs": [
        {
          "output_type": "display_data",
          "data": {
            "text/plain": [
              "<Figure size 640x480 with 1 Axes>"
            ],
            "image/png": "[encoded data removed]"
          },
          "metadata": {}
        }
      ]
    },
    {
      "cell_type": "markdown",
      "source": [
        "- The discriminator and generator are randomly initialized, but we can plot the output of each and compare it to the true data distribution, with the generated data in red and the real data in green, and the logistic function as a function of the x axis.\n",
        "\n",
        "- We also include the threshold.\n",
        "- **If the output of the logistic function is less than 0.5, the sample is classified as generated data**;\n",
        "- conversely, **if the output is greater than 0.5, the sample will be classified as data that came from the real distribution**.\n",
        "\n",
        "#### **Sigmoid**\n",
        "- Applying the sigmoid function to the discriminator output, we get the probabilites that the samples belong to the real distribution. We can count the number of true samples that the discriminator correctly classifies.\n",
        "\n",
        "- For the real data, the discriminator successfully assigns a probability greater than 0.5 for all 5000 samples:"
      ],
      "metadata": {
        "id": "0Dw-P6GaFODr"
      }
    },
    {
      "cell_type": "code",
      "source": [
        "py_x = tf.math.sigmoid(discriminator(X,training = False))\n",
        "np.sum(py_x > 0.5)"
      ],
      "metadata": {
        "id": "fvcILLzWFvf2",
        "outputId": "bf86a230-f3d1-49b4-87d2-3a7b7972ef36",
        "colab": {
          "base_uri": "https://localhost:8080/"
        }
      },
      "execution_count": 66,
      "outputs": [
        {
          "output_type": "execute_result",
          "data": {
            "text/plain": [
              "5000"
            ]
          },
          "metadata": {},
          "execution_count": 66
        }
      ]
    },
    {
      "cell_type": "markdown",
      "source": [
        "#### **Interpretation**\n",
        "- For the generated data, only a part of the 5000 samples are classified as having more than 50% chance of coming from the real distribution."
      ],
      "metadata": {
        "id": "rWXmFbgBGl0u"
      }
    }
  ]
}