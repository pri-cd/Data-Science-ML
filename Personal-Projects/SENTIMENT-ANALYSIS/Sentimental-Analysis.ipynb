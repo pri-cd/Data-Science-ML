{
  "metadata": {
    "kernelspec": {
      "language": "python",
      "display_name": "Python 3",
      "name": "python3"
    },
    "language_info": {
      "name": "python",
      "version": "3.10.12",
      "mimetype": "text/x-python",
      "codemirror_mode": {
        "name": "ipython",
        "version": 3
      },
      "pygments_lexer": "ipython3",
      "nbconvert_exporter": "python",
      "file_extension": ".py"
    },
    "kaggle": {
      "accelerator": "none",
      "dataSources": [
        {
          "sourceId": 4807272,
          "sourceType": "datasetVersion",
          "datasetId": 2783627
        }
      ],
      "dockerImageVersionId": 30626,
      "isInternetEnabled": false,
      "language": "python",
      "sourceType": "notebook",
      "isGpuEnabled": false
    },
    "colab": {
      "provenance": []
    }
  },
  "nbformat_minor": 0,
  "nbformat": 4,
  "cells": [
    {
      "cell_type": "markdown",
      "source": [
        "## **Importing All Important Libraries**"
      ],
      "metadata": {
        "id": "5O6Ba-Tdkqij"
      }
    },
    {
      "cell_type": "code",
      "source": [
        "import os\n",
        "import numpy as np\n",
        "import pandas as pd"
      ],
      "metadata": {
        "id": "P0as22TcKOFY"
      },
      "execution_count": 2,
      "outputs": []
    },
    {
      "cell_type": "markdown",
      "source": [
        "## **Downloading the Dataset from Kaggle & Utilising It.**"
      ],
      "metadata": {
        "id": "wX_Ni0jlj-Hu"
      }
    },
    {
      "cell_type": "code",
      "source": [
        "!rm -rf /content/sentiment140.zip\n",
        "!curl -L -s -o /content/sentiment140.zip https://www.kaggle.com/api/v1/datasets/download/kazanova/sentiment140\n",
        "!unzip /content/sentiment140.zip\n",
        "!rm -rf /content/sentiment140.zip"
      ],
      "metadata": {
        "colab": {
          "base_uri": "https://localhost:8080/"
        },
        "id": "rjaU2LxqOR-1",
        "outputId": "28e7b33f-d4d0-4d77-8ac9-265e20978a0e"
      },
      "execution_count": 5,
      "outputs": [
        {
          "output_type": "stream",
          "name": "stdout",
          "text": [
            "  % Total    % Received % Xferd  Average Speed   Time    Time     Time  Current\n",
            "                                 Dload  Upload   Total   Spent    Left  Speed\n",
            "  0     0    0     0    0     0      0      0 --:--:-- --:--:-- --:--:--     0\n",
            "100 80.9M  100 80.9M    0     0  22.1M      0  0:00:03  0:00:03 --:--:-- 31.0M\n",
            "Archive:  /content/archive.zip\n",
            "  inflating: training.1600000.processed.noemoticon.csv  \n"
          ]
        }
      ]
    },
    {
      "cell_type": "code",
      "source": [],
      "metadata": {
        "id": "Ou1bq7V1kHb1"
      },
      "execution_count": null,
      "outputs": []
    }
  ]
}